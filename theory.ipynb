{
 "cells": [
  {
   "attachments": {},
   "cell_type": "markdown",
   "metadata": {},
   "source": [
    "<h3><span style=\"color: yellow;\">Features</span></h3>\n",
    "- Know as **predictors** or **input** variables.\n",
    "- measurable properties or characteristics of the data \n",
    "- can be numerical, categorical, or even textual, depending on the nature of the problem and the type of data being analyzed.\n",
    "- **Example**:\n",
    "   - in a problem of predicting house prices, features could include the number of bedrooms, square footage, location, and so on.\n",
    "\n",
    "\n",
    "\n",
    "<h3><span style=\"color: yellow;\">Labels</span></h3>\n",
    "- known as **targets** or **output** variables.\n",
    "- values or classes that the machine learning algorithm aims to predict or classify.\n",
    "- The algorithm learns from these examples to generalize and make predictions on unseen data.\n",
    "- Using the house price prediction example, the labels would be the actual prices of the houses corresponding to the provided features.\n"
   ]
  },
  {
   "attachments": {},
   "cell_type": "markdown",
   "metadata": {},
   "source": [
    "<h3><span style=\"color: yellow;\">Supervised Learning</span></h3>\n",
    "\n",
    "- The algorithm learns from labeled training data to make predictions or classify new, unseen data.\n",
    "- Consists of input features and corresponding labeled output.\n",
    "\n",
    "Supervised learning can be categorized into two main types based on the nature of the output variable:\n",
    "1. Classification\n",
    "   - This algorithm predict discrete categories or labels.\n",
    "   - Examples: \n",
    "     - classifying emails as spam or non-spam based on their content.\n",
    "     - identifying whether an image contains a cat or a dog.\n",
    "\n",
    "2. Regression\n",
    "   - This algorithms predict continuous numerical values. \n",
    "   - Examples:\n",
    "     - predicting house prices based on features like square footage and number of bedrooms.\n",
    "     - forecasting stock prices based on historical data."
   ]
  },
  {
   "attachments": {},
   "cell_type": "markdown",
   "metadata": {},
   "source": [
    "<h3><span style=\"color: yellow;\">Unsupervised Learning</span></h3>\n",
    "\n",
    "- The algorithm learns patterns or structures in the data without any labeled examples. \n",
    "- The algorithm explores the data and identifies inherent patterns, similarities, or relationships within it.\n",
    "\n",
    "Unsupervised learning can be categorized into different types based on the goals and techniques used:\n",
    "1. Clustering\n",
    "   - This algorithms aim to group similar data points together based on their inherent similarities.\n",
    "   - Can be useful for customer segmentation, image segmentation, or anomaly detection.\n",
    "   - Examples: \n",
    "     - k-means clustering, hierarchical clustering, and DBSCAN.\n",
    "\n",
    "2. Dimensionality Reduction\n",
    "   - This techniques reduce the number of features in the dataset while preserving meaningful information.\n",
    "   - This helps in visualizing high-dimensional data, reducing computational complexity, and eliminating noise. \n",
    "   - Principal Component Analysis (PCA) and t-SNE (t-Distributed Stochastic Neighbor Embedding) are common dimensionality reduction methods."
   ]
  },
  {
   "attachments": {},
   "cell_type": "markdown",
   "metadata": {},
   "source": [
    "about sklearn\n",
    "training data vs test data (by analogy)\n",
    "about model\n",
    "simple linear regression \n"
   ]
  }
 ],
 "metadata": {
  "language_info": {
   "name": "python"
  },
  "orig_nbformat": 4
 },
 "nbformat": 4,
 "nbformat_minor": 2
}
